{
 "cells": [
  {
   "cell_type": "markdown",
   "metadata": {},
   "source": [
    "### (1). Load the CIFAR-10 dataset and split it into train/validation/test subsets"
   ]
  },
  {
   "cell_type": "code",
   "execution_count": 3,
   "metadata": {},
   "outputs": [
    {
     "name": "stdout",
     "output_type": "stream",
     "text": [
      "Shape of train_images :  (50000, 32, 32, 3)\n",
      "Shape of train_labels :  (50000, 1)\n",
      "Shape of test_images :  (10000, 32, 32, 3)\n",
      "Shape of test_labels :  (10000, 1)\n"
     ]
    }
   ],
   "source": [
    "from keras import models\n",
    "from keras.layers import Flatten, Dense, Conv2D, MaxPooling2D, Dropout, BatchNormalization\n",
    "import tensorflow as tf\n",
    "import numpy as np\n",
    "from keras.datasets import cifar10\n",
    "from keras.utils import to_categorical\n",
    "import matplotlib.pyplot as plt\n",
    "import warnings\n",
    "warnings.filterwarnings('ignore')\n",
    "\n",
    "# load data\n",
    "(train_images, train_labels), (test_images, test_labels) = cifar10.load_data()\n",
    "\n",
    "\n",
    "print(\"Shape of train_images : \",train_images.shape)\n",
    "print(\"Shape of train_labels : \",train_labels.shape)\n",
    "print(\"Shape of test_images : \",test_images.shape)\n",
    "print(\"Shape of test_labels : \",test_labels.shape)"
   ]
  },
  {
   "cell_type": "code",
   "execution_count": 4,
   "metadata": {},
   "outputs": [
    {
     "name": "stdout",
     "output_type": "stream",
     "text": [
      "Shape of subset train_images :  (40000, 32, 32, 3)\n",
      "Shape of subset train_labels :  (40000, 1)\n",
      "Shape of subset validation_images :  (10000, 32, 32, 3)\n",
      "Shape of subset validation_labels :  (10000, 1)\n",
      "Shape of subset test_images :  (10000, 32, 32, 3)\n",
      "Shape of subset test_labels :  (10000, 1)\n"
     ]
    }
   ],
   "source": [
    "# train and validation split\n",
    "x_train = train_images[:40000]\n",
    "y_train = train_labels[:40000]\n",
    "\n",
    "x_validate = train_images[40000:]\n",
    "y_validate = train_labels[40000:]\n",
    "\n",
    "print(\"Shape of subset train_images : \",x_train.shape)\n",
    "print(\"Shape of subset train_labels : \",y_train.shape)\n",
    "print(\"Shape of subset validation_images : \",x_validate.shape)\n",
    "print(\"Shape of subset validation_labels : \",y_validate.shape)\n",
    "print(\"Shape of subset test_images : \",test_images.shape)\n",
    "print(\"Shape of subset test_labels : \",test_labels.shape)"
   ]
  },
  {
   "cell_type": "code",
   "execution_count": 5,
   "metadata": {},
   "outputs": [],
   "source": [
    "# Convert labels to categorical\n",
    "train_labels_categorical = to_categorical(y_train)\n",
    "validation_labels_categorical = to_categorical(y_validate)\n",
    "test_labels_categorical = to_categorical(test_labels)\n",
    "\n",
    "# Normalize the images\n",
    "train_images = x_train.astype('float32') / 255\n",
    "\n",
    "validation_images = x_validate.astype('float32') / 255\n",
    "\n",
    "test_images = test_images.astype('float32') / 255"
   ]
  },
  {
   "cell_type": "code",
   "execution_count": 6,
   "metadata": {},
   "outputs": [
    {
     "name": "stdout",
     "output_type": "stream",
     "text": [
      "Total no. of classes :  10\n"
     ]
    }
   ],
   "source": [
    "print(\"Total no. of classes : \",train_labels_categorical[0].shape[0])"
   ]
  },
  {
   "cell_type": "code",
   "execution_count": 7,
   "metadata": {},
   "outputs": [
    {
     "data": {
      "text/plain": [
       "{0: 3986,\n",
       " 1: 3986,\n",
       " 2: 4048,\n",
       " 3: 3984,\n",
       " 4: 4003,\n",
       " 5: 3975,\n",
       " 6: 4020,\n",
       " 7: 4023,\n",
       " 8: 3997,\n",
       " 9: 3978}"
      ]
     },
     "execution_count": 7,
     "metadata": {},
     "output_type": "execute_result"
    }
   ],
   "source": [
    "unique, counts = np.unique(y_train, return_counts=True)\n",
    "dict(zip(unique, counts))"
   ]
  },
  {
   "cell_type": "code",
   "execution_count": 8,
   "metadata": {},
   "outputs": [
    {
     "data": {
      "text/plain": [
       "{0: 1000,\n",
       " 1: 1000,\n",
       " 2: 1000,\n",
       " 3: 1000,\n",
       " 4: 1000,\n",
       " 5: 1000,\n",
       " 6: 1000,\n",
       " 7: 1000,\n",
       " 8: 1000,\n",
       " 9: 1000}"
      ]
     },
     "execution_count": 8,
     "metadata": {},
     "output_type": "execute_result"
    }
   ],
   "source": [
    "unique, counts = np.unique(test_labels, return_counts=True)\n",
    "dict(zip(unique, counts))"
   ]
  },
  {
   "cell_type": "code",
   "execution_count": 9,
   "metadata": {},
   "outputs": [
    {
     "data": {
      "text/plain": [
       "{0: 1014,\n",
       " 1: 1014,\n",
       " 2: 952,\n",
       " 3: 1016,\n",
       " 4: 997,\n",
       " 5: 1025,\n",
       " 6: 980,\n",
       " 7: 977,\n",
       " 8: 1003,\n",
       " 9: 1022}"
      ]
     },
     "execution_count": 9,
     "metadata": {},
     "output_type": "execute_result"
    }
   ],
   "source": [
    "unique, counts = np.unique(y_validate, return_counts=True)\n",
    "dict(zip(unique, counts))"
   ]
  },
  {
   "cell_type": "markdown",
   "metadata": {},
   "source": [
    "### (2). Build a convolution neural network"
   ]
  },
  {
   "cell_type": "code",
   "execution_count": 12,
   "metadata": {},
   "outputs": [
    {
     "name": "stdout",
     "output_type": "stream",
     "text": [
      "Model: \"sequential_2\"\n",
      "_________________________________________________________________\n",
      "Layer (type)                 Output Shape              Param #   \n",
      "=================================================================\n",
      "conv2d_6 (Conv2D)            (None, 30, 30, 32)        896       \n",
      "_________________________________________________________________\n",
      "max_pooling2d_6 (MaxPooling2 (None, 15, 15, 32)        0         \n",
      "_________________________________________________________________\n",
      "conv2d_7 (Conv2D)            (None, 13, 13, 64)        18496     \n",
      "_________________________________________________________________\n",
      "batch_normalization_2 (Batch (None, 13, 13, 64)        256       \n",
      "_________________________________________________________________\n",
      "max_pooling2d_7 (MaxPooling2 (None, 6, 6, 64)          0         \n",
      "_________________________________________________________________\n",
      "conv2d_8 (Conv2D)            (None, 4, 4, 128)         73856     \n",
      "_________________________________________________________________\n",
      "max_pooling2d_8 (MaxPooling2 (None, 2, 2, 128)         0         \n",
      "_________________________________________________________________\n",
      "flatten_2 (Flatten)          (None, 512)               0         \n",
      "_________________________________________________________________\n",
      "dropout_2 (Dropout)          (None, 512)               0         \n",
      "_________________________________________________________________\n",
      "dense_2 (Dense)              (None, 10)                5130      \n",
      "=================================================================\n",
      "Total params: 98,634\n",
      "Trainable params: 98,506\n",
      "Non-trainable params: 128\n",
      "_________________________________________________________________\n"
     ]
    }
   ],
   "source": [
    "checkpoint_filepath = './tmp/checkpoint'\n",
    "model_checkpoint_callback = tf.keras.callbacks.ModelCheckpoint(\n",
    "    filepath=checkpoint_filepath,\n",
    "    save_weights_only=True,\n",
    "    monitor='val_acc',\n",
    "    mode='max',\n",
    "    save_best_only=True)\n",
    "\n",
    "\n",
    "model = models.Sequential()\n",
    "# First Convolution layer\n",
    "model.add(Conv2D(32, (3,3), activation='relu', input_shape=(32, 32, 3)))\n",
    "# Max pooling\n",
    "model.add(MaxPooling2D((2, 2)))\n",
    "\n",
    "# Second Convolution layer\n",
    "model.add(Conv2D(64, (3,3), activation='relu'))\n",
    "# Normalization\n",
    "model.add(BatchNormalization())\n",
    "# Max pooling\n",
    "model.add(MaxPooling2D((2, 2)))\n",
    "\n",
    "# Third Convolution layer\n",
    "model.add(Conv2D(128, (3,3), activation='relu'))\n",
    "# Max pooling\n",
    "model.add(MaxPooling2D((2, 2)))\n",
    "\n",
    "\n",
    "# Perform flattening\n",
    "model.add(Flatten())\n",
    "\n",
    "# Dropout layer\n",
    "model.add(Dropout(0.5))\n",
    "\n",
    "# Single Dense layer/Fully Connected layer/ Output layer\n",
    "model.add(Dense(10, activation='softmax'))\n",
    "\n",
    "# Model summary\n",
    "model.summary()"
   ]
  },
  {
   "cell_type": "code",
   "execution_count": 13,
   "metadata": {},
   "outputs": [
    {
     "name": "stdout",
     "output_type": "stream",
     "text": [
      "Epoch 1/30\n",
      "625/625 [==============================] - 34s 54ms/step - loss: 1.5478 - acc: 0.4412 - val_loss: 1.3050 - val_acc: 0.5478\n",
      "Epoch 2/30\n",
      "625/625 [==============================] - 33s 53ms/step - loss: 1.2043 - acc: 0.5722 - val_loss: 1.2167 - val_acc: 0.5639\n",
      "Epoch 3/30\n",
      "625/625 [==============================] - 33s 53ms/step - loss: 1.0816 - acc: 0.6205 - val_loss: 1.0509 - val_acc: 0.6344\n",
      "Epoch 4/30\n",
      "625/625 [==============================] - 34s 54ms/step - loss: 1.0054 - acc: 0.6455 - val_loss: 1.1486 - val_acc: 0.5886\n",
      "Epoch 5/30\n",
      "625/625 [==============================] - 34s 54ms/step - loss: 0.9438 - acc: 0.6699 - val_loss: 0.9594 - val_acc: 0.6632\n",
      "Epoch 6/30\n",
      "625/625 [==============================] - 34s 54ms/step - loss: 0.8988 - acc: 0.6846 - val_loss: 0.9742 - val_acc: 0.6516\n",
      "Epoch 7/30\n",
      "625/625 [==============================] - 34s 54ms/step - loss: 0.8654 - acc: 0.6982 - val_loss: 0.9704 - val_acc: 0.6592\n",
      "Epoch 8/30\n",
      "625/625 [==============================] - 34s 54ms/step - loss: 0.8352 - acc: 0.7086 - val_loss: 0.8942 - val_acc: 0.6939\n",
      "Epoch 9/30\n",
      "625/625 [==============================] - 34s 55ms/step - loss: 0.8115 - acc: 0.7164 - val_loss: 0.9718 - val_acc: 0.6830\n",
      "Epoch 10/30\n",
      "625/625 [==============================] - 34s 54ms/step - loss: 0.7823 - acc: 0.7264 - val_loss: 0.9881 - val_acc: 0.6661\n",
      "Epoch 11/30\n",
      "625/625 [==============================] - 35s 56ms/step - loss: 0.7655 - acc: 0.7322 - val_loss: 0.7720 - val_acc: 0.7365\n",
      "Epoch 12/30\n",
      "625/625 [==============================] - 34s 54ms/step - loss: 0.7386 - acc: 0.7403 - val_loss: 0.8519 - val_acc: 0.7125\n",
      "Epoch 13/30\n",
      "625/625 [==============================] - 34s 54ms/step - loss: 0.7158 - acc: 0.7498 - val_loss: 0.7714 - val_acc: 0.7431\n",
      "Epoch 14/30\n",
      "625/625 [==============================] - 35s 55ms/step - loss: 0.7145 - acc: 0.7495 - val_loss: 0.8460 - val_acc: 0.7131\n",
      "Epoch 15/30\n",
      "625/625 [==============================] - 35s 55ms/step - loss: 0.6930 - acc: 0.7550 - val_loss: 0.8254 - val_acc: 0.7095\n",
      "Epoch 16/30\n",
      "625/625 [==============================] - 33s 53ms/step - loss: 0.6850 - acc: 0.7592 - val_loss: 0.8074 - val_acc: 0.7296\n",
      "Epoch 17/30\n",
      "625/625 [==============================] - 34s 55ms/step - loss: 0.6660 - acc: 0.7646 - val_loss: 0.8396 - val_acc: 0.7151\n",
      "Epoch 18/30\n",
      "625/625 [==============================] - 35s 56ms/step - loss: 0.6539 - acc: 0.7686 - val_loss: 0.9219 - val_acc: 0.7000\n",
      "Epoch 19/30\n",
      "625/625 [==============================] - 35s 55ms/step - loss: 0.6457 - acc: 0.7708 - val_loss: 0.7861 - val_acc: 0.7402\n",
      "Epoch 20/30\n",
      "625/625 [==============================] - 35s 55ms/step - loss: 0.6343 - acc: 0.7754 - val_loss: 0.7836 - val_acc: 0.7377\n",
      "Epoch 21/30\n",
      "625/625 [==============================] - 35s 55ms/step - loss: 0.6174 - acc: 0.7811 - val_loss: 0.8254 - val_acc: 0.7287\n",
      "Epoch 22/30\n",
      "625/625 [==============================] - 34s 54ms/step - loss: 0.6002 - acc: 0.7854 - val_loss: 0.7976 - val_acc: 0.7371\n",
      "Epoch 23/30\n",
      "625/625 [==============================] - 36s 57ms/step - loss: 0.5962 - acc: 0.7871 - val_loss: 0.7443 - val_acc: 0.7508\n",
      "Epoch 24/30\n",
      "625/625 [==============================] - 35s 56ms/step - loss: 0.5879 - acc: 0.7926 - val_loss: 0.8104 - val_acc: 0.7274\n",
      "Epoch 25/30\n",
      "625/625 [==============================] - 34s 55ms/step - loss: 0.5832 - acc: 0.7933 - val_loss: 0.8432 - val_acc: 0.7251\n",
      "Epoch 26/30\n",
      "625/625 [==============================] - 35s 56ms/step - loss: 0.5766 - acc: 0.7959 - val_loss: 0.7860 - val_acc: 0.7353\n",
      "Epoch 27/30\n",
      "625/625 [==============================] - 34s 54ms/step - loss: 0.5705 - acc: 0.7977 - val_loss: 0.8163 - val_acc: 0.7331\n",
      "Epoch 28/30\n",
      "625/625 [==============================] - 35s 57ms/step - loss: 0.5633 - acc: 0.8013 - val_loss: 0.8144 - val_acc: 0.7302\n",
      "Epoch 29/30\n",
      "625/625 [==============================] - 35s 57ms/step - loss: 0.5458 - acc: 0.8072 - val_loss: 0.9534 - val_acc: 0.7143\n",
      "Epoch 30/30\n",
      "625/625 [==============================] - 34s 55ms/step - loss: 0.5443 - acc: 0.8063 - val_loss: 0.7636 - val_acc: 0.7477\n"
     ]
    }
   ],
   "source": [
    "# Compile the network\n",
    "from keras import optimizers\n",
    "model.compile(loss='categorical_crossentropy', optimizer= 'adam', metrics=['acc'])\n",
    "\n",
    "history = model.fit(train_images, train_labels_categorical, epochs=30, batch_size=64, callbacks=[model_checkpoint_callback], \n",
    "                             validation_data=(validation_images, validation_labels_categorical))"
   ]
  },
  {
   "cell_type": "markdown",
   "metadata": {},
   "source": [
    "#### Plot the training and validation loss as a function of epochs. Plot the training and validation accuracy as a function of epochs"
   ]
  },
  {
   "cell_type": "code",
   "execution_count": 18,
   "metadata": {},
   "outputs": [
    {
     "data": {
      "text/plain": [
       "dict_keys(['loss', 'acc', 'val_loss', 'val_acc'])"
      ]
     },
     "execution_count": 18,
     "metadata": {},
     "output_type": "execute_result"
    }
   ],
   "source": [
    "history_dict = history.history\n",
    "history_dict.keys()"
   ]
  },
  {
   "cell_type": "code",
   "execution_count": 19,
   "metadata": {},
   "outputs": [
    {
     "data": {
      "image/png": "[encoded data removed]",
      "text/plain": [
       "<Figure size 432x288 with 1 Axes>"
      ]
     },
     "metadata": {
      "needs_background": "light"
     },
     "output_type": "display_data"
    },
    {
     "data": {
      "image/png": "[encoded data removed]",
      "text/plain": [
       "<Figure size 432x288 with 1 Axes>"
      ]
     },
     "metadata": {
      "needs_background": "light"
     },
     "output_type": "display_data"
    }
   ],
   "source": [
    "train_acc = history_dict['acc']\n",
    "val_acc = history_dict['val_acc']\n",
    "train_loss = history_dict['loss']\n",
    "val_loss = history_dict['val_loss']\n",
    "epochs = range(1, len(train_acc)+1)\n",
    "\n",
    "# Plot loss plot \n",
    "plt.plot(epochs, train_loss, 'bo', label='Training loss')\n",
    "plt.plot(epochs, val_loss, 'b', label='Validation loss')\n",
    "plt.title('Training and Validation Loss')\n",
    "plt.xlabel('Epochs')\n",
    "plt.ylabel('Loss')\n",
    "plt.legend()\n",
    "plt.show()\n",
    "\n",
    "# Plot accuracy plot \n",
    "plt.plot(epochs, train_acc, 'ro', label='Training accuracy')\n",
    "plt.plot(epochs, val_acc, 'r', label='Validation accuracy')\n",
    "plt.title('Training and Validation accuracy')\n",
    "plt.xlabel('Epochs')\n",
    "plt.ylabel('Accuracy')\n",
    "plt.legend()\n",
    "plt.show()"
   ]
  },
  {
   "cell_type": "markdown",
   "metadata": {},
   "source": [
    "### (3). Evaluate the performance on the test data"
   ]
  },
  {
   "cell_type": "code",
   "execution_count": 20,
   "metadata": {},
   "outputs": [
    {
     "data": {
      "text/plain": [
       "<tensorflow.python.training.tracking.util.CheckpointLoadStatus at 0x24d29f53248>"
      ]
     },
     "execution_count": 20,
     "metadata": {},
     "output_type": "execute_result"
    }
   ],
   "source": [
    "# The model weights (that are considered the best) are loaded into the model.\n",
    "model.load_weights(checkpoint_filepath)"
   ]
  },
  {
   "cell_type": "code",
   "execution_count": 21,
   "metadata": {},
   "outputs": [
    {
     "name": "stdout",
     "output_type": "stream",
     "text": [
      "313/313 [==============================] - 2s 6ms/step - loss: 0.7482 - acc: 0.7442\n",
      "Test loss for best validation model :  0.7482087016105652\n",
      "Test accuracy for best validation model :  0.7441999912261963\n"
     ]
    }
   ],
   "source": [
    "test_loss,test_acc = model.evaluate(test_images, test_labels_categorical)\n",
    "\n",
    "print(\"Test loss for best validation model : \",test_loss)\n",
    "print(\"Test accuracy for best validation model : \",test_acc)"
   ]
  },
  {
   "cell_type": "markdown",
   "metadata": {},
   "source": [
    "### (4). Add one or two inception blocks and test performance"
   ]
  },
  {
   "cell_type": "code",
   "execution_count": 29,
   "metadata": {},
   "outputs": [
    {
     "name": "stdout",
     "output_type": "stream",
     "text": [
      "Model: \"functional_9\"\n",
      "__________________________________________________________________________________________________\n",
      "Layer (type)                    Output Shape         Param #     Connected to                     \n",
      "==================================================================================================\n",
      "input_12 (InputLayer)           [(None, 32, 32, 3)]  0                                            \n",
      "__________________________________________________________________________________________________\n",
      "conv2d_94 (Conv2D)              (None, 30, 30, 32)   896         input_12[0][0]                   \n",
      "__________________________________________________________________________________________________\n",
      "batch_normalization_12 (BatchNo (None, 30, 30, 32)   128         conv2d_94[0][0]                  \n",
      "__________________________________________________________________________________________________\n",
      "max_pooling2d_20 (MaxPooling2D) (None, 15, 15, 32)   0           batch_normalization_12[0][0]     \n",
      "__________________________________________________________________________________________________\n",
      "conv2d_95 (Conv2D)              (None, 13, 13, 64)   18496       max_pooling2d_20[0][0]           \n",
      "__________________________________________________________________________________________________\n",
      "batch_normalization_13 (BatchNo (None, 13, 13, 64)   256         conv2d_95[0][0]                  \n",
      "__________________________________________________________________________________________________\n",
      "conv2d_100 (Conv2D)             (None, 13, 13, 128)  8320        batch_normalization_13[0][0]     \n",
      "__________________________________________________________________________________________________\n",
      "conv2d_97 (Conv2D)              (None, 13, 13, 128)  8320        batch_normalization_13[0][0]     \n",
      "__________________________________________________________________________________________________\n",
      "average_pooling2d_10 (AveragePo (None, 7, 7, 64)     0           batch_normalization_13[0][0]     \n",
      "__________________________________________________________________________________________________\n",
      "conv2d_101 (Conv2D)             (None, 13, 13, 128)  147584      conv2d_100[0][0]                 \n",
      "__________________________________________________________________________________________________\n",
      "conv2d_96 (Conv2D)              (None, 7, 7, 128)    8320        batch_normalization_13[0][0]     \n",
      "__________________________________________________________________________________________________\n",
      "conv2d_98 (Conv2D)              (None, 7, 7, 128)    147584      conv2d_97[0][0]                  \n",
      "__________________________________________________________________________________________________\n",
      "conv2d_99 (Conv2D)              (None, 7, 7, 128)    73856       average_pooling2d_10[0][0]       \n",
      "__________________________________________________________________________________________________\n",
      "conv2d_102 (Conv2D)             (None, 7, 7, 128)    147584      conv2d_101[0][0]                 \n",
      "__________________________________________________________________________________________________\n",
      "concatenate_9 (Concatenate)     (None, 7, 7, 512)    0           conv2d_96[0][0]                  \n",
      "                                                                 conv2d_98[0][0]                  \n",
      "                                                                 conv2d_99[0][0]                  \n",
      "                                                                 conv2d_102[0][0]                 \n",
      "__________________________________________________________________________________________________\n",
      "conv2d_103 (Conv2D)             (None, 5, 5, 128)    589952      concatenate_9[0][0]              \n",
      "__________________________________________________________________________________________________\n",
      "max_pooling2d_21 (MaxPooling2D) (None, 2, 2, 128)    0           conv2d_103[0][0]                 \n",
      "__________________________________________________________________________________________________\n",
      "flatten_4 (Flatten)             (None, 512)          0           max_pooling2d_21[0][0]           \n",
      "__________________________________________________________________________________________________\n",
      "dropout_4 (Dropout)             (None, 512)          0           flatten_4[0][0]                  \n",
      "__________________________________________________________________________________________________\n",
      "dense_4 (Dense)                 (None, 10)           5130        dropout_4[0][0]                  \n",
      "==================================================================================================\n",
      "Total params: 1,156,426\n",
      "Trainable params: 1,156,234\n",
      "Non-trainable params: 192\n",
      "__________________________________________________________________________________________________\n"
     ]
    }
   ],
   "source": [
    "from keras.models import Model\n",
    "from keras import layers\n",
    "from keras import Input\n",
    "\n",
    "# Using functional API of keras to build the network\n",
    "input_tensor = Input(shape=(32,32,3))\n",
    "\n",
    "# First Convolution layer\n",
    "x = Conv2D(32, (3,3), activation='relu')(input_tensor)\n",
    "# Normalization\n",
    "x = BatchNormalization()(x)\n",
    "# Max Pooling\n",
    "x = MaxPooling2D((2, 2))(x)\n",
    "\n",
    "# Second Convolution layer\n",
    "x = Conv2D(64, (3,3), activation='relu')(x)\n",
    "# Normalization\n",
    "x = BatchNormalization()(x)\n",
    "# Max pooling\n",
    "#x = MaxPooling2D((2, 2), padding='same')(x)\n",
    "\n",
    "# First Inception block\n",
    "branch_a = Conv2D(128, (1,1), padding='same', activation='relu', strides=2)(x)\n",
    "branch_b = Conv2D(128, (1,1), padding='same', activation='relu')(x)\n",
    "branch_b = Conv2D(128, (3,3), padding='same', activation='relu', strides=2)(branch_b) \n",
    "branch_c = layers.AveragePooling2D((3,3), padding='same', strides=2)(x)\n",
    "branch_c = Conv2D(128, (3,3), padding='same', activation='relu')(branch_c)\n",
    "branch_d = Conv2D(128, (1,1), padding='same', activation='relu')(x)\n",
    "branch_d = Conv2D(128, (3,3), padding='same', activation='relu')(branch_d)\n",
    "branch_d = Conv2D(128, (3,3), padding='same', activation='relu', strides=2)(branch_d)\n",
    "output = layers.concatenate([branch_a, branch_b, branch_c, branch_d], axis = -1)\n",
    "\n",
    "# Third Convolution layer\n",
    "x = Conv2D(128, (3,3), activation='relu')(output)\n",
    "# Max pooling\n",
    "x = MaxPooling2D((2, 2))(x)\n",
    "\n",
    "# Perform flattening\n",
    "x = Flatten()(x)\n",
    "# Dropout layer\n",
    "x = Dropout(0.5)(x)\n",
    "\n",
    "# Single Dense layer/Fully Connected layer/ Output layer\n",
    "output_tensor = Dense(10, activation='softmax')(x)\n",
    "\n",
    "model = Model(input_tensor, output_tensor)\n",
    "# Model summary\n",
    "model.summary()"
   ]
  },
  {
   "cell_type": "code",
   "execution_count": 30,
   "metadata": {},
   "outputs": [
    {
     "name": "stdout",
     "output_type": "stream",
     "text": [
      "Epoch 1/20\n",
      "625/625 [==============================] - 224s 359ms/step - loss: 1.5516 - acc: 0.4348 - val_loss: 1.5980 - val_acc: 0.4315\n",
      "Epoch 2/20\n",
      "625/625 [==============================] - 232s 371ms/step - loss: 1.1598 - acc: 0.5895 - val_loss: 2.0258 - val_acc: 0.4340\n",
      "Epoch 3/20\n",
      "625/625 [==============================] - 235s 377ms/step - loss: 0.9902 - acc: 0.6526 - val_loss: 0.9945 - val_acc: 0.6547\n",
      "Epoch 4/20\n",
      "625/625 [==============================] - 237s 379ms/step - loss: 0.8866 - acc: 0.6930 - val_loss: 0.9919 - val_acc: 0.6500\n",
      "Epoch 5/20\n",
      "625/625 [==============================] - 234s 374ms/step - loss: 0.8081 - acc: 0.7204 - val_loss: 1.0790 - val_acc: 0.6226\n",
      "Epoch 6/20\n",
      "625/625 [==============================] - 236s 378ms/step - loss: 0.7360 - acc: 0.7462 - val_loss: 0.8606 - val_acc: 0.6902\n",
      "Epoch 7/20\n",
      "625/625 [==============================] - 233s 373ms/step - loss: 0.6855 - acc: 0.7616 - val_loss: 0.9731 - val_acc: 0.6728\n",
      "Epoch 8/20\n",
      "625/625 [==============================] - 231s 370ms/step - loss: 0.6276 - acc: 0.7824 - val_loss: 0.8736 - val_acc: 0.7055\n",
      "Epoch 9/20\n",
      "625/625 [==============================] - 234s 375ms/step - loss: 0.5942 - acc: 0.7940 - val_loss: 0.7429 - val_acc: 0.7495\n",
      "Epoch 10/20\n",
      "625/625 [==============================] - 235s 377ms/step - loss: 0.5481 - acc: 0.8067 - val_loss: 0.7325 - val_acc: 0.7597\n",
      "Epoch 11/20\n",
      "625/625 [==============================] - 232s 371ms/step - loss: 0.5116 - acc: 0.8196 - val_loss: 0.8740 - val_acc: 0.7197\n",
      "Epoch 12/20\n",
      "625/625 [==============================] - 236s 378ms/step - loss: 0.4860 - acc: 0.8317 - val_loss: 0.7581 - val_acc: 0.7481\n",
      "Epoch 13/20\n",
      "625/625 [==============================] - 235s 375ms/step - loss: 0.4501 - acc: 0.8422 - val_loss: 0.7909 - val_acc: 0.7536\n",
      "Epoch 14/20\n",
      "625/625 [==============================] - 236s 377ms/step - loss: 0.4222 - acc: 0.8531 - val_loss: 0.7219 - val_acc: 0.7720\n",
      "Epoch 15/20\n",
      "625/625 [==============================] - 234s 375ms/step - loss: 0.3931 - acc: 0.8620 - val_loss: 0.8718 - val_acc: 0.7425\n",
      "Epoch 16/20\n",
      "625/625 [==============================] - 239s 382ms/step - loss: 0.3769 - acc: 0.8678 - val_loss: 0.7231 - val_acc: 0.7741\n",
      "Epoch 17/20\n",
      "625/625 [==============================] - 239s 382ms/step - loss: 0.3489 - acc: 0.8769 - val_loss: 0.7509 - val_acc: 0.7813\n",
      "Epoch 18/20\n",
      "625/625 [==============================] - 235s 377ms/step - loss: 0.3306 - acc: 0.8843 - val_loss: 0.7526 - val_acc: 0.7634\n",
      "Epoch 19/20\n",
      "625/625 [==============================] - 235s 376ms/step - loss: 0.3189 - acc: 0.8880 - val_loss: 0.8152 - val_acc: 0.7626\n",
      "Epoch 20/20\n",
      "625/625 [==============================] - 234s 374ms/step - loss: 0.2995 - acc: 0.8946 - val_loss: 0.8792 - val_acc: 0.7450\n"
     ]
    }
   ],
   "source": [
    "checkpoint_filepath = './tmp1/checkpoint'\n",
    "model_checkpoint_callback = tf.keras.callbacks.ModelCheckpoint(\n",
    "    filepath=checkpoint_filepath,\n",
    "    save_weights_only=True,\n",
    "    monitor='val_acc',\n",
    "    mode='max',\n",
    "    save_best_only=True)\n",
    "\n",
    "# Compile the network\n",
    "model.compile(loss='categorical_crossentropy', optimizer= 'adam', metrics=['acc'])\n",
    "\n",
    "history = model.fit(train_images, train_labels_categorical, epochs=20, batch_size=64, callbacks=[model_checkpoint_callback], \n",
    "                             validation_data=(validation_images, validation_labels_categorical))"
   ]
  },
  {
   "cell_type": "code",
   "execution_count": 31,
   "metadata": {},
   "outputs": [
    {
     "data": {
      "image/png": "[encoded data removed]",
      "text/plain": [
       "<Figure size 432x288 with 1 Axes>"
      ]
     },
     "metadata": {
      "needs_background": "light"
     },
     "output_type": "display_data"
    },
    {
     "data": {
      "image/png": "[encoded data removed]",
      "text/plain": [
       "<Figure size 432x288 with 1 Axes>"
      ]
     },
     "metadata": {
      "needs_background": "light"
     },
     "output_type": "display_data"
    }
   ],
   "source": [
    "history_dict = history.history\n",
    "\n",
    "train_acc = history_dict['acc']\n",
    "val_acc = history_dict['val_acc']\n",
    "train_loss = history_dict['loss']\n",
    "val_loss = history_dict['val_loss']\n",
    "epochs = range(1, len(train_acc)+1)\n",
    "\n",
    "# Plot loss plot \n",
    "plt.plot(epochs, train_loss, 'bo', label='Training loss')\n",
    "plt.plot(epochs, val_loss, 'b', label='Validation loss')\n",
    "plt.title('Training and Validation Loss')\n",
    "plt.xlabel('Epochs')\n",
    "plt.ylabel('Loss')\n",
    "plt.legend()\n",
    "plt.show()\n",
    "\n",
    "# Plot accuracy plot \n",
    "plt.plot(epochs, train_acc, 'ro', label='Training accuracy')\n",
    "plt.plot(epochs, val_acc, 'r', label='Validation accuracy')\n",
    "plt.title('Training and Validation accuracy')\n",
    "plt.xlabel('Epochs')\n",
    "plt.ylabel('Accuracy')\n",
    "plt.legend()\n",
    "plt.show()"
   ]
  },
  {
   "cell_type": "code",
   "execution_count": 32,
   "metadata": {},
   "outputs": [
    {
     "data": {
      "text/plain": [
       "<tensorflow.python.training.tracking.util.CheckpointLoadStatus at 0x2420690ed88>"
      ]
     },
     "execution_count": 32,
     "metadata": {},
     "output_type": "execute_result"
    }
   ],
   "source": [
    "# The model weights (that are considered the best) are loaded into the model.\n",
    "model.load_weights(checkpoint_filepath)"
   ]
  },
  {
   "cell_type": "code",
   "execution_count": 33,
   "metadata": {},
   "outputs": [
    {
     "name": "stdout",
     "output_type": "stream",
     "text": [
      "313/313 [==============================] - 14s 43ms/step - loss: 0.7531 - acc: 0.7729\n",
      "Test loss for best validation model :  0.7530990242958069\n",
      "Test accuracy for best validation model :  0.7728999853134155\n"
     ]
    }
   ],
   "source": [
    "test_loss,test_acc = model.evaluate(test_images, test_labels_categorical)\n",
    "\n",
    "print(\"Test loss for best validation model : \",test_loss)\n",
    "print(\"Test accuracy for best validation model : \",test_acc)"
   ]
  },
  {
   "cell_type": "markdown",
   "metadata": {},
   "source": [
    "### (5). Remove the inception blocks and add one or two residual blocks instead"
   ]
  },
  {
   "cell_type": "code",
   "execution_count": 44,
   "metadata": {},
   "outputs": [
    {
     "name": "stdout",
     "output_type": "stream",
     "text": [
      "Model: \"functional_17\"\n",
      "__________________________________________________________________________________________________\n",
      "Layer (type)                    Output Shape         Param #     Connected to                     \n",
      "==================================================================================================\n",
      "input_17 (InputLayer)           [(None, 32, 32, 3)]  0                                            \n",
      "__________________________________________________________________________________________________\n",
      "conv2d_127 (Conv2D)             (None, 30, 30, 32)   896         input_17[0][0]                   \n",
      "__________________________________________________________________________________________________\n",
      "batch_normalization_22 (BatchNo (None, 30, 30, 32)   128         conv2d_127[0][0]                 \n",
      "__________________________________________________________________________________________________\n",
      "max_pooling2d_30 (MaxPooling2D) (None, 15, 15, 32)   0           batch_normalization_22[0][0]     \n",
      "__________________________________________________________________________________________________\n",
      "conv2d_128 (Conv2D)             (None, 13, 13, 128)  36992       max_pooling2d_30[0][0]           \n",
      "__________________________________________________________________________________________________\n",
      "batch_normalization_23 (BatchNo (None, 13, 13, 128)  512         conv2d_128[0][0]                 \n",
      "__________________________________________________________________________________________________\n",
      "max_pooling2d_31 (MaxPooling2D) (None, 7, 7, 128)    0           batch_normalization_23[0][0]     \n",
      "__________________________________________________________________________________________________\n",
      "conv2d_129 (Conv2D)             (None, 7, 7, 128)    147584      max_pooling2d_31[0][0]           \n",
      "__________________________________________________________________________________________________\n",
      "conv2d_130 (Conv2D)             (None, 7, 7, 128)    147584      conv2d_129[0][0]                 \n",
      "__________________________________________________________________________________________________\n",
      "conv2d_131 (Conv2D)             (None, 7, 7, 128)    147584      conv2d_130[0][0]                 \n",
      "__________________________________________________________________________________________________\n",
      "add_4 (Add)                     (None, 7, 7, 128)    0           conv2d_131[0][0]                 \n",
      "                                                                 max_pooling2d_31[0][0]           \n",
      "__________________________________________________________________________________________________\n",
      "conv2d_132 (Conv2D)             (None, 5, 5, 128)    147584      add_4[0][0]                      \n",
      "__________________________________________________________________________________________________\n",
      "max_pooling2d_32 (MaxPooling2D) (None, 2, 2, 128)    0           conv2d_132[0][0]                 \n",
      "__________________________________________________________________________________________________\n",
      "flatten_8 (Flatten)             (None, 512)          0           max_pooling2d_32[0][0]           \n",
      "__________________________________________________________________________________________________\n",
      "dropout_8 (Dropout)             (None, 512)          0           flatten_8[0][0]                  \n",
      "__________________________________________________________________________________________________\n",
      "dense_8 (Dense)                 (None, 10)           5130        dropout_8[0][0]                  \n",
      "==================================================================================================\n",
      "Total params: 633,994\n",
      "Trainable params: 633,674\n",
      "Non-trainable params: 320\n",
      "__________________________________________________________________________________________________\n"
     ]
    }
   ],
   "source": [
    "# Using functional API of keras to build the network\n",
    "input_tensor = Input(shape=(32,32,3))\n",
    "\n",
    "# First Convolution layer\n",
    "x = Conv2D(32, (3,3), activation='relu')(input_tensor)\n",
    "# Normalization\n",
    "x = BatchNormalization()(x)\n",
    "# Max Pooling\n",
    "x = MaxPooling2D((2, 2))(x)\n",
    "\n",
    "# Second Convolution layer\n",
    "x = Conv2D(128, (3,3), activation='relu')(x)\n",
    "# Normalization\n",
    "x = BatchNormalization()(x)\n",
    "# Max pooling\n",
    "x = MaxPooling2D((2, 2), padding='same')(x)\n",
    "\n",
    "# First Residual block\n",
    "y = Conv2D(128, (3,3), padding='same', activation='relu')(x)\n",
    "y = Conv2D(128, (3,3), padding='same', activation='relu')(y)\n",
    "y = Conv2D(128, (3,3), padding='same', activation='relu')(y) \n",
    "# adds the original x back to the output features\n",
    "y = layers.add([y,x])\n",
    "\n",
    "\n",
    "# Third Convolution layer\n",
    "x = Conv2D(128, (3,3), activation='relu')(y)\n",
    "# Max pooling\n",
    "x = MaxPooling2D((2, 2))(x)\n",
    "\n",
    "# Perform flattening\n",
    "x = Flatten()(x)\n",
    "# Dropout layer\n",
    "x = Dropout(0.5)(x)\n",
    "\n",
    "# Single Dense layer/Fully Connected layer/ Output layer\n",
    "output_tensor = Dense(10, activation='softmax')(x)\n",
    "\n",
    "model = Model(input_tensor, output_tensor)\n",
    "# Model summary\n",
    "model.summary()"
   ]
  },
  {
   "cell_type": "code",
   "execution_count": 45,
   "metadata": {},
   "outputs": [
    {
     "name": "stdout",
     "output_type": "stream",
     "text": [
      "Epoch 1/20\n",
      "625/625 [==============================] - 112s 179ms/step - loss: 1.6786 - acc: 0.4002 - val_loss: 1.9567 - val_acc: 0.3869\n",
      "Epoch 2/20\n",
      "625/625 [==============================] - 115s 184ms/step - loss: 1.2695 - acc: 0.5495 - val_loss: 1.1641 - val_acc: 0.5692\n",
      "Epoch 3/20\n",
      "625/625 [==============================] - 119s 190ms/step - loss: 1.0865 - acc: 0.6173 - val_loss: 0.9803 - val_acc: 0.6519\n",
      "Epoch 4/20\n",
      "625/625 [==============================] - 123s 196ms/step - loss: 0.9438 - acc: 0.6686 - val_loss: 1.0857 - val_acc: 0.6079\n",
      "Epoch 5/20\n",
      "625/625 [==============================] - 125s 200ms/step - loss: 0.8378 - acc: 0.7060 - val_loss: 0.9339 - val_acc: 0.6839\n",
      "Epoch 6/20\n",
      "625/625 [==============================] - 127s 203ms/step - loss: 0.7482 - acc: 0.7381 - val_loss: 1.0555 - val_acc: 0.6430\n",
      "Epoch 7/20\n",
      "625/625 [==============================] - 127s 203ms/step - loss: 0.6689 - acc: 0.7684 - val_loss: 0.8910 - val_acc: 0.7064\n",
      "Epoch 8/20\n",
      "625/625 [==============================] - 125s 200ms/step - loss: 0.6049 - acc: 0.7905 - val_loss: 1.2669 - val_acc: 0.6296\n",
      "Epoch 9/20\n",
      "625/625 [==============================] - 127s 204ms/step - loss: 0.5505 - acc: 0.8085 - val_loss: 0.8395 - val_acc: 0.7194\n",
      "Epoch 10/20\n",
      "625/625 [==============================] - 126s 202ms/step - loss: 0.4985 - acc: 0.8266 - val_loss: 0.7720 - val_acc: 0.7592\n",
      "Epoch 11/20\n",
      "625/625 [==============================] - 125s 201ms/step - loss: 0.4442 - acc: 0.8459 - val_loss: 0.7857 - val_acc: 0.7642\n",
      "Epoch 12/20\n",
      "625/625 [==============================] - 129s 207ms/step - loss: 0.4114 - acc: 0.8561 - val_loss: 0.9530 - val_acc: 0.7237\n",
      "Epoch 13/20\n",
      "625/625 [==============================] - 127s 204ms/step - loss: 0.3753 - acc: 0.8696 - val_loss: 0.8418 - val_acc: 0.7643\n",
      "Epoch 14/20\n",
      "625/625 [==============================] - 128s 204ms/step - loss: 0.3526 - acc: 0.8784 - val_loss: 1.3643 - val_acc: 0.6609\n",
      "Epoch 15/20\n",
      "625/625 [==============================] - 128s 206ms/step - loss: 0.3292 - acc: 0.8859 - val_loss: 0.8623 - val_acc: 0.7710\n",
      "Epoch 16/20\n",
      "625/625 [==============================] - 129s 206ms/step - loss: 0.2939 - acc: 0.8984 - val_loss: 0.9319 - val_acc: 0.7571\n",
      "Epoch 17/20\n",
      "625/625 [==============================] - 128s 204ms/step - loss: 0.2794 - acc: 0.9061 - val_loss: 0.9052 - val_acc: 0.7787\n",
      "Epoch 18/20\n",
      "625/625 [==============================] - 128s 206ms/step - loss: 0.2565 - acc: 0.9128 - val_loss: 0.8838 - val_acc: 0.7871\n",
      "Epoch 19/20\n",
      "625/625 [==============================] - 126s 202ms/step - loss: 0.2465 - acc: 0.9149 - val_loss: 1.0293 - val_acc: 0.7474\n",
      "Epoch 20/20\n",
      "625/625 [==============================] - 127s 204ms/step - loss: 0.2372 - acc: 0.9211 - val_loss: 1.1906 - val_acc: 0.7392\n"
     ]
    }
   ],
   "source": [
    "checkpoint_filepath = './tmp2/checkpoint'\n",
    "model_checkpoint_callback = tf.keras.callbacks.ModelCheckpoint(\n",
    "    filepath=checkpoint_filepath,\n",
    "    save_weights_only=True,\n",
    "    monitor='val_acc',\n",
    "    mode='max',\n",
    "    save_best_only=True)\n",
    "\n",
    "# Compile the network\n",
    "model.compile(loss='categorical_crossentropy', optimizer= 'adam', metrics=['acc'])\n",
    "\n",
    "history = model.fit(train_images, train_labels_categorical, epochs=20, batch_size=64, callbacks=[model_checkpoint_callback], \n",
    "                             validation_data=(validation_images, validation_labels_categorical))"
   ]
  },
  {
   "cell_type": "code",
   "execution_count": 46,
   "metadata": {},
   "outputs": [
    {
     "data": {
      "image/png": "[encoded data removed]",
      "text/plain": [
       "<Figure size 432x288 with 1 Axes>"
      ]
     },
     "metadata": {
      "needs_background": "light"
     },
     "output_type": "display_data"
    },
    {
     "data": {
      "image/png": "[encoded data removed]",
      "text/plain": [
       "<Figure size 432x288 with 1 Axes>"
      ]
     },
     "metadata": {
      "needs_background": "light"
     },
     "output_type": "display_data"
    }
   ],
   "source": [
    "history_dict = history.history\n",
    "\n",
    "train_acc = history_dict['acc']\n",
    "val_acc = history_dict['val_acc']\n",
    "train_loss = history_dict['loss']\n",
    "val_loss = history_dict['val_loss']\n",
    "epochs = range(1, len(train_acc)+1)\n",
    "\n",
    "# Plot loss plot \n",
    "plt.plot(epochs, train_loss, 'bo', label='Training loss')\n",
    "plt.plot(epochs, val_loss, 'b', label='Validation loss')\n",
    "plt.title('Training and Validation Loss')\n",
    "plt.xlabel('Epochs')\n",
    "plt.ylabel('Loss')\n",
    "plt.legend()\n",
    "plt.show()\n",
    "\n",
    "# Plot accuracy plot \n",
    "plt.plot(epochs, train_acc, 'ro', label='Training accuracy')\n",
    "plt.plot(epochs, val_acc, 'r', label='Validation accuracy')\n",
    "plt.title('Training and Validation accuracy')\n",
    "plt.xlabel('Epochs')\n",
    "plt.ylabel('Accuracy')\n",
    "plt.legend()\n",
    "plt.show()"
   ]
  },
  {
   "cell_type": "code",
   "execution_count": 47,
   "metadata": {},
   "outputs": [
    {
     "data": {
      "text/plain": [
       "<tensorflow.python.training.tracking.util.CheckpointLoadStatus at 0x242165756c8>"
      ]
     },
     "execution_count": 47,
     "metadata": {},
     "output_type": "execute_result"
    }
   ],
   "source": [
    "# The model weights (that are considered the best) are loaded into the model.\n",
    "model.load_weights(checkpoint_filepath)"
   ]
  },
  {
   "cell_type": "code",
   "execution_count": 48,
   "metadata": {},
   "outputs": [
    {
     "name": "stdout",
     "output_type": "stream",
     "text": [
      "313/313 [==============================] - 7s 24ms/step - loss: 0.9311 - acc: 0.7757\n",
      "Test loss for best validation model :  0.9311480522155762\n",
      "Test accuracy for best validation model :  0.7756999731063843\n"
     ]
    }
   ],
   "source": [
    "test_loss,test_acc = model.evaluate(test_images, test_labels_categorical)\n",
    "\n",
    "print(\"Test loss for best validation model : \",test_loss)\n",
    "print(\"Test accuracy for best validation model : \",test_acc)"
   ]
  },
  {
   "cell_type": "code",
   "execution_count": null,
   "metadata": {},
   "outputs": [],
   "source": []
  }
 ],
 "metadata": {
  "kernelspec": {
   "display_name": "Python 3",
   "language": "python",
   "name": "python3"
  },
  "language_info": {
   "codemirror_mode": {
    "name": "ipython",
    "version": 3
   },
   "file_extension": ".py",
   "mimetype": "text/x-python",
   "name": "python",
   "nbconvert_exporter": "python",
   "pygments_lexer": "ipython3",
   "version": "3.7.6"
  }
 },
 "nbformat": 4,
 "nbformat_minor": 4
}
